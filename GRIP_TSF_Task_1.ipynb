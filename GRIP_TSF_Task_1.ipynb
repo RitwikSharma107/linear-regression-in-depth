{
  "nbformat": 4,
  "nbformat_minor": 0,
  "metadata": {
    "colab": {
      "name": "GRIP_TSF_Task_1.ipynb",
      "provenance": [],
      "collapsed_sections": [],
      "mount_file_id": "1Rr1tklwcdDGQBy7-2ouSpQNxyMjK2UBM",
      "authorship_tag": "ABX9TyOEFsXMkKvkWWpP0JwcD4S7",
      "include_colab_link": true
    },
    "kernelspec": {
      "name": "python3",
      "display_name": "Python 3"
    },
    "language_info": {
      "name": "python"
    }
  },
  "cells": [
    {
      "cell_type": "markdown",
      "metadata": {
        "id": "view-in-github",
        "colab_type": "text"
      },
      "source": [
        "<a href=\"https://colab.research.google.com/github/RitwikSharma107/linear-regression-in-depth/blob/main/GRIP_TSF_Task_1.ipynb\" target=\"_parent\"><img src=\"https://colab.research.google.com/assets/colab-badge.svg\" alt=\"Open In Colab\"/></a>"
      ]
    },
    {
      "cell_type": "markdown",
      "metadata": {
        "id": "vNVOmr5nP_1a"
      },
      "source": [
        "# **The Sparks Foundation**\n",
        "## **(Graduate Rotational Internship Program)** "
      ]
    },
    {
      "cell_type": "markdown",
      "metadata": {
        "id": "nVJwPow9P-JF"
      },
      "source": [
        "### Author:\n",
        "## **RITWIK SHARMA**\n",
        "### (Data Science and Business Analytics Intern)\n",
        "<ul>\n",
        " <li><a href=\"https://www.linkedin.com/in/ritwik-sharma-156951167/\">LinkedIn Profile</a></li>\n",
        " <li><a href=\"https://github.com/RitwikSharma107\">Github Profile</a></li>\n",
        " <li><a href=\"https://ritwiksharma107.github.io/portfolio/\">Portfolio</a></li>\n",
        "</ul>"
      ]
    },
    {
      "cell_type": "markdown",
      "metadata": {
        "id": "llpPwFnjPRr7"
      },
      "source": [
        "# Task 1: Prediction using Supervised ML\n",
        "\n",
        "## Problem Definition\n",
        "\n",
        "In this regression task, predict the percentage of marks that a student is expected to score based upon the number of hours they studied."
      ]
    },
    {
      "cell_type": "markdown",
      "metadata": {
        "id": "rsaCWx8DRyph"
      },
      "source": [
        "## Data\n",
        "\n",
        "The link for the data is given below:\n",
        "\n",
        "http://bit.ly/w-data"
      ]
    },
    {
      "cell_type": "markdown",
      "metadata": {
        "id": "xc3nVXB-Q7Gs"
      },
      "source": [
        "### Import necessary libraries"
      ]
    },
    {
      "cell_type": "code",
      "metadata": {
        "id": "PzVz9pMCcSQ2"
      },
      "source": [
        "import numpy as np\n",
        "import pandas as pd\n",
        "import plotly.express as px\n",
        "import plotly.graph_objects as go\n",
        "import matplotlib.pyplot as plt\n",
        "from sklearn.linear_model import LinearRegression\n",
        "from sklearn.model_selection import train_test_split\n",
        "from sklearn.metrics import mean_absolute_error, mean_squared_error, r2_score\n",
        "import scipy.stats as stat\n",
        "import pylab\n",
        "\n",
        "# Getting matplotlib graphs with dark background\n",
        "plt.style.use('dark_background')"
      ],
      "execution_count": 154,
      "outputs": []
    },
    {
      "cell_type": "markdown",
      "metadata": {
        "id": "iQyu1x-IO8rB"
      },
      "source": [
        "## Data Analysis"
      ]
    },
    {
      "cell_type": "markdown",
      "metadata": {
        "id": "gOxsxMNWSQo4"
      },
      "source": [
        "### Read data from remote link"
      ]
    },
    {
      "cell_type": "code",
      "metadata": {
        "colab": {
          "base_uri": "https://localhost:8080/",
          "height": 359
        },
        "id": "N0llYSoiekTP",
        "outputId": "c0bb1f86-daf9-40d7-8317-af8a32528fd8"
      },
      "source": [
        "url = \"http://bit.ly/w-data\"\n",
        "df = pd.read_csv(url)\n",
        "df.head(10)"
      ],
      "execution_count": 155,
      "outputs": [
        {
          "output_type": "execute_result",
          "data": {
            "text/html": [
              "<div>\n",
              "<style scoped>\n",
              "    .dataframe tbody tr th:only-of-type {\n",
              "        vertical-align: middle;\n",
              "    }\n",
              "\n",
              "    .dataframe tbody tr th {\n",
              "        vertical-align: top;\n",
              "    }\n",
              "\n",
              "    .dataframe thead th {\n",
              "        text-align: right;\n",
              "    }\n",
              "</style>\n",
              "<table border=\"1\" class=\"dataframe\">\n",
              "  <thead>\n",
              "    <tr style=\"text-align: right;\">\n",
              "      <th></th>\n",
              "      <th>Hours</th>\n",
              "      <th>Scores</th>\n",
              "    </tr>\n",
              "  </thead>\n",
              "  <tbody>\n",
              "    <tr>\n",
              "      <th>0</th>\n",
              "      <td>2.5</td>\n",
              "      <td>21</td>\n",
              "    </tr>\n",
              "    <tr>\n",
              "      <th>1</th>\n",
              "      <td>5.1</td>\n",
              "      <td>47</td>\n",
              "    </tr>\n",
              "    <tr>\n",
              "      <th>2</th>\n",
              "      <td>3.2</td>\n",
              "      <td>27</td>\n",
              "    </tr>\n",
              "    <tr>\n",
              "      <th>3</th>\n",
              "      <td>8.5</td>\n",
              "      <td>75</td>\n",
              "    </tr>\n",
              "    <tr>\n",
              "      <th>4</th>\n",
              "      <td>3.5</td>\n",
              "      <td>30</td>\n",
              "    </tr>\n",
              "    <tr>\n",
              "      <th>5</th>\n",
              "      <td>1.5</td>\n",
              "      <td>20</td>\n",
              "    </tr>\n",
              "    <tr>\n",
              "      <th>6</th>\n",
              "      <td>9.2</td>\n",
              "      <td>88</td>\n",
              "    </tr>\n",
              "    <tr>\n",
              "      <th>7</th>\n",
              "      <td>5.5</td>\n",
              "      <td>60</td>\n",
              "    </tr>\n",
              "    <tr>\n",
              "      <th>8</th>\n",
              "      <td>8.3</td>\n",
              "      <td>81</td>\n",
              "    </tr>\n",
              "    <tr>\n",
              "      <th>9</th>\n",
              "      <td>2.7</td>\n",
              "      <td>25</td>\n",
              "    </tr>\n",
              "  </tbody>\n",
              "</table>\n",
              "</div>"
            ],
            "text/plain": [
              "   Hours  Scores\n",
              "0    2.5      21\n",
              "1    5.1      47\n",
              "2    3.2      27\n",
              "3    8.5      75\n",
              "4    3.5      30\n",
              "5    1.5      20\n",
              "6    9.2      88\n",
              "7    5.5      60\n",
              "8    8.3      81\n",
              "9    2.7      25"
            ]
          },
          "metadata": {
            "tags": []
          },
          "execution_count": 155
        }
      ]
    },
    {
      "cell_type": "code",
      "metadata": {
        "colab": {
          "base_uri": "https://localhost:8080/"
        },
        "id": "M7CCFPjfet2b",
        "outputId": "73dc4956-5475-412d-e8d1-fceef1e58204"
      },
      "source": [
        "df.shape"
      ],
      "execution_count": 156,
      "outputs": [
        {
          "output_type": "execute_result",
          "data": {
            "text/plain": [
              "(25, 2)"
            ]
          },
          "metadata": {
            "tags": []
          },
          "execution_count": 156
        }
      ]
    },
    {
      "cell_type": "markdown",
      "metadata": {
        "id": "l1ngCGluSczV"
      },
      "source": [
        "There are 25 rows and 2 columns."
      ]
    },
    {
      "cell_type": "code",
      "metadata": {
        "colab": {
          "base_uri": "https://localhost:8080/"
        },
        "id": "d0PIviCce0eU",
        "outputId": "a7b9432a-01ee-43f0-af5a-075a8bc97d91"
      },
      "source": [
        "df.info()"
      ],
      "execution_count": 157,
      "outputs": [
        {
          "output_type": "stream",
          "text": [
            "<class 'pandas.core.frame.DataFrame'>\n",
            "RangeIndex: 25 entries, 0 to 24\n",
            "Data columns (total 2 columns):\n",
            " #   Column  Non-Null Count  Dtype  \n",
            "---  ------  --------------  -----  \n",
            " 0   Hours   25 non-null     float64\n",
            " 1   Scores  25 non-null     int64  \n",
            "dtypes: float64(1), int64(1)\n",
            "memory usage: 528.0 bytes\n"
          ],
          "name": "stdout"
        }
      ]
    },
    {
      "cell_type": "markdown",
      "metadata": {
        "id": "G1u-3YIcSiZO"
      },
      "source": [
        "There are only two columns:-\n",
        "* Hours (Independent Variable)\n",
        "* Scores in percentage (Dependent Variable)"
      ]
    },
    {
      "cell_type": "markdown",
      "metadata": {
        "id": "51f59WE5TA3P"
      },
      "source": [
        "### Check for missing values"
      ]
    },
    {
      "cell_type": "code",
      "metadata": {
        "colab": {
          "base_uri": "https://localhost:8080/"
        },
        "id": "oxXt0T1Ge27R",
        "outputId": "bf6ad18e-4c9e-4c70-91da-31ccb3a07d81"
      },
      "source": [
        "df.isna().sum()"
      ],
      "execution_count": 158,
      "outputs": [
        {
          "output_type": "execute_result",
          "data": {
            "text/plain": [
              "Hours     0\n",
              "Scores    0\n",
              "dtype: int64"
            ]
          },
          "metadata": {
            "tags": []
          },
          "execution_count": 158
        }
      ]
    },
    {
      "cell_type": "markdown",
      "metadata": {
        "id": "FwXAORk-TFl2"
      },
      "source": [
        "There are no missing values."
      ]
    },
    {
      "cell_type": "markdown",
      "metadata": {
        "id": "5ne8gtJNTJcv"
      },
      "source": [
        "### Data Visualization"
      ]
    },
    {
      "cell_type": "code",
      "metadata": {
        "colab": {
          "base_uri": "https://localhost:8080/",
          "height": 542
        },
        "id": "PpGdunU6ffaR",
        "outputId": "7c0ed5d0-de6b-4845-c4cb-6b037b617c0c"
      },
      "source": [
        "px.scatter(df, x='Hours', y='Scores', title='Hours vs Percentage', template='plotly_dark')"
      ],
      "execution_count": 159,
      "outputs": [
        {
          "output_type": "display_data",
          "data": {
            "text/html": [
              "<html>\n",
              "<head><meta charset=\"utf-8\" /></head>\n",
              "<body>\n",
              "    <div>\n",
              "            <script src=\"https://cdnjs.cloudflare.com/ajax/libs/mathjax/2.7.5/MathJax.js?config=TeX-AMS-MML_SVG\"></script><script type=\"text/javascript\">if (window.MathJax) {MathJax.Hub.Config({SVG: {font: \"STIX-Web\"}});}</script>\n",
              "                <script type=\"text/javascript\">window.PlotlyConfig = {MathJaxConfig: 'local'};</script>\n",
              "        <script src=\"https://cdn.plot.ly/plotly-latest.min.js\"></script>    \n",
              "            <div id=\"733f58e1-ba58-49d4-bc86-8e7049e710ae\" class=\"plotly-graph-div\" style=\"height:525px; width:100%;\"></div>\n",
              "            <script type=\"text/javascript\">\n",
              "                \n",
              "                    window.PLOTLYENV=window.PLOTLYENV || {};\n",
              "                    \n",
              "                if (document.getElementById(\"733f58e1-ba58-49d4-bc86-8e7049e710ae\")) {\n",
              "                    Plotly.newPlot(\n",
              "                        '733f58e1-ba58-49d4-bc86-8e7049e710ae',\n",
              "                        [{\"hoverlabel\": {\"namelength\": 0}, \"hovertemplate\": \"Hours=%{x}<br>Scores=%{y}\", \"legendgroup\": \"\", \"marker\": {\"color\": \"#636efa\", \"symbol\": \"circle\"}, \"mode\": \"markers\", \"name\": \"\", \"showlegend\": false, \"type\": \"scatter\", \"x\": [2.5, 5.1, 3.2, 8.5, 3.5, 1.5, 9.2, 5.5, 8.3, 2.7, 7.7, 5.9, 4.5, 3.3, 1.1, 8.9, 2.5, 1.9, 6.1, 7.4, 2.7, 4.8, 3.8, 6.9, 7.8], \"xaxis\": \"x\", \"y\": [21, 47, 27, 75, 30, 20, 88, 60, 81, 25, 85, 62, 41, 42, 17, 95, 30, 24, 67, 69, 30, 54, 35, 76, 86], \"yaxis\": \"y\"}],\n",
              "                        {\"legend\": {\"tracegroupgap\": 0}, \"template\": {\"data\": {\"bar\": [{\"error_x\": {\"color\": \"#f2f5fa\"}, \"error_y\": {\"color\": \"#f2f5fa\"}, \"marker\": {\"line\": {\"color\": \"rgb(17,17,17)\", \"width\": 0.5}}, \"type\": \"bar\"}], \"barpolar\": [{\"marker\": {\"line\": {\"color\": \"rgb(17,17,17)\", \"width\": 0.5}}, \"type\": \"barpolar\"}], \"carpet\": [{\"aaxis\": {\"endlinecolor\": \"#A2B1C6\", \"gridcolor\": \"#506784\", \"linecolor\": \"#506784\", \"minorgridcolor\": \"#506784\", \"startlinecolor\": \"#A2B1C6\"}, \"baxis\": {\"endlinecolor\": \"#A2B1C6\", \"gridcolor\": \"#506784\", \"linecolor\": \"#506784\", \"minorgridcolor\": \"#506784\", \"startlinecolor\": \"#A2B1C6\"}, \"type\": \"carpet\"}], \"choropleth\": [{\"colorbar\": {\"outlinewidth\": 0, \"ticks\": \"\"}, \"type\": \"choropleth\"}], \"contour\": [{\"colorbar\": {\"outlinewidth\": 0, \"ticks\": \"\"}, \"colorscale\": [[0.0, \"#0d0887\"], [0.1111111111111111, \"#46039f\"], [0.2222222222222222, \"#7201a8\"], [0.3333333333333333, \"#9c179e\"], [0.4444444444444444, \"#bd3786\"], [0.5555555555555556, \"#d8576b\"], [0.6666666666666666, \"#ed7953\"], [0.7777777777777778, \"#fb9f3a\"], [0.8888888888888888, \"#fdca26\"], [1.0, \"#f0f921\"]], \"type\": \"contour\"}], \"contourcarpet\": [{\"colorbar\": {\"outlinewidth\": 0, \"ticks\": \"\"}, \"type\": \"contourcarpet\"}], \"heatmap\": [{\"colorbar\": {\"outlinewidth\": 0, \"ticks\": \"\"}, \"colorscale\": [[0.0, \"#0d0887\"], [0.1111111111111111, \"#46039f\"], [0.2222222222222222, \"#7201a8\"], [0.3333333333333333, \"#9c179e\"], [0.4444444444444444, \"#bd3786\"], [0.5555555555555556, \"#d8576b\"], [0.6666666666666666, \"#ed7953\"], [0.7777777777777778, \"#fb9f3a\"], [0.8888888888888888, \"#fdca26\"], [1.0, \"#f0f921\"]], \"type\": \"heatmap\"}], \"heatmapgl\": [{\"colorbar\": {\"outlinewidth\": 0, \"ticks\": \"\"}, \"colorscale\": [[0.0, \"#0d0887\"], [0.1111111111111111, \"#46039f\"], [0.2222222222222222, \"#7201a8\"], [0.3333333333333333, \"#9c179e\"], [0.4444444444444444, \"#bd3786\"], [0.5555555555555556, \"#d8576b\"], [0.6666666666666666, \"#ed7953\"], [0.7777777777777778, \"#fb9f3a\"], [0.8888888888888888, \"#fdca26\"], [1.0, \"#f0f921\"]], \"type\": \"heatmapgl\"}], \"histogram\": [{\"marker\": {\"colorbar\": {\"outlinewidth\": 0, \"ticks\": \"\"}}, \"type\": \"histogram\"}], \"histogram2d\": [{\"colorbar\": {\"outlinewidth\": 0, \"ticks\": \"\"}, \"colorscale\": [[0.0, \"#0d0887\"], [0.1111111111111111, \"#46039f\"], [0.2222222222222222, \"#7201a8\"], [0.3333333333333333, \"#9c179e\"], [0.4444444444444444, \"#bd3786\"], [0.5555555555555556, \"#d8576b\"], [0.6666666666666666, \"#ed7953\"], [0.7777777777777778, \"#fb9f3a\"], [0.8888888888888888, \"#fdca26\"], [1.0, \"#f0f921\"]], \"type\": \"histogram2d\"}], \"histogram2dcontour\": [{\"colorbar\": {\"outlinewidth\": 0, \"ticks\": \"\"}, \"colorscale\": [[0.0, \"#0d0887\"], [0.1111111111111111, \"#46039f\"], [0.2222222222222222, \"#7201a8\"], [0.3333333333333333, \"#9c179e\"], [0.4444444444444444, \"#bd3786\"], [0.5555555555555556, \"#d8576b\"], [0.6666666666666666, \"#ed7953\"], [0.7777777777777778, \"#fb9f3a\"], [0.8888888888888888, \"#fdca26\"], [1.0, \"#f0f921\"]], \"type\": \"histogram2dcontour\"}], \"mesh3d\": [{\"colorbar\": {\"outlinewidth\": 0, \"ticks\": \"\"}, \"type\": \"mesh3d\"}], \"parcoords\": [{\"line\": {\"colorbar\": {\"outlinewidth\": 0, \"ticks\": \"\"}}, \"type\": \"parcoords\"}], \"pie\": [{\"automargin\": true, \"type\": \"pie\"}], \"scatter\": [{\"marker\": {\"line\": {\"color\": \"#283442\"}}, \"type\": \"scatter\"}], \"scatter3d\": [{\"line\": {\"colorbar\": {\"outlinewidth\": 0, \"ticks\": \"\"}}, \"marker\": {\"colorbar\": {\"outlinewidth\": 0, \"ticks\": \"\"}}, \"type\": \"scatter3d\"}], \"scattercarpet\": [{\"marker\": {\"colorbar\": {\"outlinewidth\": 0, \"ticks\": \"\"}}, \"type\": \"scattercarpet\"}], \"scattergeo\": [{\"marker\": {\"colorbar\": {\"outlinewidth\": 0, \"ticks\": \"\"}}, \"type\": \"scattergeo\"}], \"scattergl\": [{\"marker\": {\"line\": {\"color\": \"#283442\"}}, \"type\": \"scattergl\"}], \"scattermapbox\": [{\"marker\": {\"colorbar\": {\"outlinewidth\": 0, \"ticks\": \"\"}}, \"type\": \"scattermapbox\"}], \"scatterpolar\": [{\"marker\": {\"colorbar\": {\"outlinewidth\": 0, \"ticks\": \"\"}}, \"type\": \"scatterpolar\"}], \"scatterpolargl\": [{\"marker\": {\"colorbar\": {\"outlinewidth\": 0, \"ticks\": \"\"}}, \"type\": \"scatterpolargl\"}], \"scatterternary\": [{\"marker\": {\"colorbar\": {\"outlinewidth\": 0, \"ticks\": \"\"}}, \"type\": \"scatterternary\"}], \"surface\": [{\"colorbar\": {\"outlinewidth\": 0, \"ticks\": \"\"}, \"colorscale\": [[0.0, \"#0d0887\"], [0.1111111111111111, \"#46039f\"], [0.2222222222222222, \"#7201a8\"], [0.3333333333333333, \"#9c179e\"], [0.4444444444444444, \"#bd3786\"], [0.5555555555555556, \"#d8576b\"], [0.6666666666666666, \"#ed7953\"], [0.7777777777777778, \"#fb9f3a\"], [0.8888888888888888, \"#fdca26\"], [1.0, \"#f0f921\"]], \"type\": \"surface\"}], \"table\": [{\"cells\": {\"fill\": {\"color\": \"#506784\"}, \"line\": {\"color\": \"rgb(17,17,17)\"}}, \"header\": {\"fill\": {\"color\": \"#2a3f5f\"}, \"line\": {\"color\": \"rgb(17,17,17)\"}}, \"type\": \"table\"}]}, \"layout\": {\"annotationdefaults\": {\"arrowcolor\": \"#f2f5fa\", \"arrowhead\": 0, \"arrowwidth\": 1}, \"coloraxis\": {\"colorbar\": {\"outlinewidth\": 0, \"ticks\": \"\"}}, \"colorscale\": {\"diverging\": [[0, \"#8e0152\"], [0.1, \"#c51b7d\"], [0.2, \"#de77ae\"], [0.3, \"#f1b6da\"], [0.4, \"#fde0ef\"], [0.5, \"#f7f7f7\"], [0.6, \"#e6f5d0\"], [0.7, \"#b8e186\"], [0.8, \"#7fbc41\"], [0.9, \"#4d9221\"], [1, \"#276419\"]], \"sequential\": [[0.0, \"#0d0887\"], [0.1111111111111111, \"#46039f\"], [0.2222222222222222, \"#7201a8\"], [0.3333333333333333, \"#9c179e\"], [0.4444444444444444, \"#bd3786\"], [0.5555555555555556, \"#d8576b\"], [0.6666666666666666, \"#ed7953\"], [0.7777777777777778, \"#fb9f3a\"], [0.8888888888888888, \"#fdca26\"], [1.0, \"#f0f921\"]], \"sequentialminus\": [[0.0, \"#0d0887\"], [0.1111111111111111, \"#46039f\"], [0.2222222222222222, \"#7201a8\"], [0.3333333333333333, \"#9c179e\"], [0.4444444444444444, \"#bd3786\"], [0.5555555555555556, \"#d8576b\"], [0.6666666666666666, \"#ed7953\"], [0.7777777777777778, \"#fb9f3a\"], [0.8888888888888888, \"#fdca26\"], [1.0, \"#f0f921\"]]}, \"colorway\": [\"#636efa\", \"#EF553B\", \"#00cc96\", \"#ab63fa\", \"#FFA15A\", \"#19d3f3\", \"#FF6692\", \"#B6E880\", \"#FF97FF\", \"#FECB52\"], \"font\": {\"color\": \"#f2f5fa\"}, \"geo\": {\"bgcolor\": \"rgb(17,17,17)\", \"lakecolor\": \"rgb(17,17,17)\", \"landcolor\": \"rgb(17,17,17)\", \"showlakes\": true, \"showland\": true, \"subunitcolor\": \"#506784\"}, \"hoverlabel\": {\"align\": \"left\"}, \"hovermode\": \"closest\", \"mapbox\": {\"style\": \"dark\"}, \"paper_bgcolor\": \"rgb(17,17,17)\", \"plot_bgcolor\": \"rgb(17,17,17)\", \"polar\": {\"angularaxis\": {\"gridcolor\": \"#506784\", \"linecolor\": \"#506784\", \"ticks\": \"\"}, \"bgcolor\": \"rgb(17,17,17)\", \"radialaxis\": {\"gridcolor\": \"#506784\", \"linecolor\": \"#506784\", \"ticks\": \"\"}}, \"scene\": {\"xaxis\": {\"backgroundcolor\": \"rgb(17,17,17)\", \"gridcolor\": \"#506784\", \"gridwidth\": 2, \"linecolor\": \"#506784\", \"showbackground\": true, \"ticks\": \"\", \"zerolinecolor\": \"#C8D4E3\"}, \"yaxis\": {\"backgroundcolor\": \"rgb(17,17,17)\", \"gridcolor\": \"#506784\", \"gridwidth\": 2, \"linecolor\": \"#506784\", \"showbackground\": true, \"ticks\": \"\", \"zerolinecolor\": \"#C8D4E3\"}, \"zaxis\": {\"backgroundcolor\": \"rgb(17,17,17)\", \"gridcolor\": \"#506784\", \"gridwidth\": 2, \"linecolor\": \"#506784\", \"showbackground\": true, \"ticks\": \"\", \"zerolinecolor\": \"#C8D4E3\"}}, \"shapedefaults\": {\"line\": {\"color\": \"#f2f5fa\"}}, \"sliderdefaults\": {\"bgcolor\": \"#C8D4E3\", \"bordercolor\": \"rgb(17,17,17)\", \"borderwidth\": 1, \"tickwidth\": 0}, \"ternary\": {\"aaxis\": {\"gridcolor\": \"#506784\", \"linecolor\": \"#506784\", \"ticks\": \"\"}, \"baxis\": {\"gridcolor\": \"#506784\", \"linecolor\": \"#506784\", \"ticks\": \"\"}, \"bgcolor\": \"rgb(17,17,17)\", \"caxis\": {\"gridcolor\": \"#506784\", \"linecolor\": \"#506784\", \"ticks\": \"\"}}, \"title\": {\"x\": 0.05}, \"updatemenudefaults\": {\"bgcolor\": \"#506784\", \"borderwidth\": 0}, \"xaxis\": {\"automargin\": true, \"gridcolor\": \"#283442\", \"linecolor\": \"#506784\", \"ticks\": \"\", \"title\": {\"standoff\": 15}, \"zerolinecolor\": \"#283442\", \"zerolinewidth\": 2}, \"yaxis\": {\"automargin\": true, \"gridcolor\": \"#283442\", \"linecolor\": \"#506784\", \"ticks\": \"\", \"title\": {\"standoff\": 15}, \"zerolinecolor\": \"#283442\", \"zerolinewidth\": 2}}}, \"title\": {\"text\": \"Hours vs Percentage\"}, \"xaxis\": {\"anchor\": \"y\", \"domain\": [0.0, 1.0], \"title\": {\"text\": \"Hours\"}}, \"yaxis\": {\"anchor\": \"x\", \"domain\": [0.0, 1.0], \"title\": {\"text\": \"Scores\"}}},\n",
              "                        {\"responsive\": true}\n",
              "                    ).then(function(){\n",
              "                            \n",
              "var gd = document.getElementById('733f58e1-ba58-49d4-bc86-8e7049e710ae');\n",
              "var x = new MutationObserver(function (mutations, observer) {{\n",
              "        var display = window.getComputedStyle(gd).display;\n",
              "        if (!display || display === 'none') {{\n",
              "            console.log([gd, 'removed!']);\n",
              "            Plotly.purge(gd);\n",
              "            observer.disconnect();\n",
              "        }}\n",
              "}});\n",
              "\n",
              "// Listen for the removal of the full notebook cells\n",
              "var notebookContainer = gd.closest('#notebook-container');\n",
              "if (notebookContainer) {{\n",
              "    x.observe(notebookContainer, {childList: true});\n",
              "}}\n",
              "\n",
              "// Listen for the clearing of the current output cell\n",
              "var outputEl = gd.closest('.output');\n",
              "if (outputEl) {{\n",
              "    x.observe(outputEl, {childList: true});\n",
              "}}\n",
              "\n",
              "                        })\n",
              "                };\n",
              "                \n",
              "            </script>\n",
              "        </div>\n",
              "</body>\n",
              "</html>"
            ]
          },
          "metadata": {
            "tags": []
          }
        }
      ]
    },
    {
      "cell_type": "markdown",
      "metadata": {
        "id": "o_8sfi6lXZ7v"
      },
      "source": [
        "From the graph above, we can clearly see that there is a positive linear relation between the number of hours studied and percentage of score."
      ]
    },
    {
      "cell_type": "markdown",
      "metadata": {
        "id": "UoDZ6n7uTU3A"
      },
      "source": [
        "### Check whether feature(Hours) is guassian or normal distributed\n",
        "\n",
        "Many machine learning algorithms work better when features are on a relatively similar scale and close to normal distribution.\n",
        "<br><br>\n",
        "\n",
        "#### Q-Q plot\n",
        "(Quantile-Quantile plots)\n",
        "\n",
        "A Q-Q plot is a scatterplot created by plotting two sets of quantiles against one another. If both sets of quantiles came from the same distribution, we should see the points forming a line that's roughly straight."
      ]
    },
    {
      "cell_type": "code",
      "metadata": {
        "colab": {
          "base_uri": "https://localhost:8080/",
          "height": 404
        },
        "id": "vkfOafq6oQfU",
        "outputId": "f273f305-c536-4258-83ab-3793bfb2bf4c"
      },
      "source": [
        "def plot_data(df,feature):\n",
        "    plt.figure(figsize=(10,6))\n",
        "    plt.subplot(1,2,1)\n",
        "    df[feature].hist()\n",
        "    plt.subplot(1,2,2)\n",
        "    stat.probplot(df[feature],dist='norm',plot=pylab)\n",
        "    plt.show()\n",
        "\n",
        "plot_data(df,'Hours')"
      ],
      "execution_count": 160,
      "outputs": [
        {
          "output_type": "display_data",
          "data": {
            "image/png": "[encoded data removed]",
            "text/plain": [
              "<Figure size 720x432 with 2 Axes>"
            ]
          },
          "metadata": {
            "tags": []
          }
        }
      ]
    },
    {
      "cell_type": "markdown",
      "metadata": {
        "id": "IiMVrHBoVA1K"
      },
      "source": [
        "Yes the feature(Hours) is normally distributed. \n",
        "\n",
        "Therfore, the machine learning algorithm will perform better."
      ]
    },
    {
      "cell_type": "markdown",
      "metadata": {
        "id": "hBQpgzwOO2La"
      },
      "source": [
        "## Data Modeling"
      ]
    },
    {
      "cell_type": "markdown",
      "metadata": {
        "id": "1xPt2Z7UVT0t"
      },
      "source": [
        "### Preparing the data by splitting it into feature(X) and label(y)"
      ]
    },
    {
      "cell_type": "code",
      "metadata": {
        "id": "0ST5bIbrhERi"
      },
      "source": [
        "y = df['Scores']\n",
        "X = df.drop('Scores',axis=1)"
      ],
      "execution_count": 161,
      "outputs": []
    },
    {
      "cell_type": "markdown",
      "metadata": {
        "id": "t_1OmjTsVdNo"
      },
      "source": [
        "### Split the feature and label into training and testing data"
      ]
    },
    {
      "cell_type": "code",
      "metadata": {
        "id": "HZKkycQYhUbC"
      },
      "source": [
        "X_train, X_test, y_train, y_test = train_test_split(X, y, test_size=0.3, random_state=0) "
      ],
      "execution_count": 162,
      "outputs": []
    },
    {
      "cell_type": "markdown",
      "metadata": {
        "id": "iZLP-PpbVs6p"
      },
      "source": [
        "### Visualize training and testing data"
      ]
    },
    {
      "cell_type": "code",
      "metadata": {
        "colab": {
          "base_uri": "https://localhost:8080/",
          "height": 542
        },
        "id": "-4zxMKBnizny",
        "outputId": "27186c2d-8db5-4d2f-8cb8-10152e2009ae"
      },
      "source": [
        "fig = go.Figure([\n",
        "    go.Scatter(x=X_train.squeeze(), y=y_train, name='train', mode='markers'),\n",
        "    go.Scatter(x=X_test.squeeze(), y=y_test, name='test', mode='markers'),\n",
        "])\n",
        "fig.update_layout(xaxis_title=\"Hours\", yaxis_title=\"Percentage\", title='Hours vs Percentage', template='plotly_dark')\n",
        "fig.show()"
      ],
      "execution_count": 163,
      "outputs": [
        {
          "output_type": "display_data",
          "data": {
            "text/html": [
              "<html>\n",
              "<head><meta charset=\"utf-8\" /></head>\n",
              "<body>\n",
              "    <div>\n",
              "            <script src=\"https://cdnjs.cloudflare.com/ajax/libs/mathjax/2.7.5/MathJax.js?config=TeX-AMS-MML_SVG\"></script><script type=\"text/javascript\">if (window.MathJax) {MathJax.Hub.Config({SVG: {font: \"STIX-Web\"}});}</script>\n",
              "                <script type=\"text/javascript\">window.PlotlyConfig = {MathJaxConfig: 'local'};</script>\n",
              "        <script src=\"https://cdn.plot.ly/plotly-latest.min.js\"></script>    \n",
              "            <div id=\"aaa4b31c-e956-4722-a8f3-0448ba2cbc43\" class=\"plotly-graph-div\" style=\"height:525px; width:100%;\"></div>\n",
              "            <script type=\"text/javascript\">\n",
              "                \n",
              "                    window.PLOTLYENV=window.PLOTLYENV || {};\n",
              "                    \n",
              "                if (document.getElementById(\"aaa4b31c-e956-4722-a8f3-0448ba2cbc43\")) {\n",
              "                    Plotly.newPlot(\n",
              "                        'aaa4b31c-e956-4722-a8f3-0448ba2cbc43',\n",
              "                        [{\"mode\": \"markers\", \"name\": \"train\", \"type\": \"scatter\", \"x\": [6.9, 1.1, 5.1, 7.7, 3.3, 8.3, 9.2, 6.1, 3.5, 2.7, 5.5, 2.7, 8.5, 2.5, 4.8, 8.9, 4.5], \"y\": [76, 17, 47, 85, 42, 81, 88, 67, 30, 25, 60, 30, 75, 21, 54, 95, 41]}, {\"mode\": \"markers\", \"name\": \"test\", \"type\": \"scatter\", \"x\": [1.5, 3.2, 7.4, 2.5, 5.9, 3.8, 1.9, 7.8], \"y\": [20, 27, 69, 30, 62, 35, 24, 86]}],\n",
              "                        {\"template\": {\"data\": {\"bar\": [{\"error_x\": {\"color\": \"#f2f5fa\"}, \"error_y\": {\"color\": \"#f2f5fa\"}, \"marker\": {\"line\": {\"color\": \"rgb(17,17,17)\", \"width\": 0.5}}, \"type\": \"bar\"}], \"barpolar\": [{\"marker\": {\"line\": {\"color\": \"rgb(17,17,17)\", \"width\": 0.5}}, \"type\": \"barpolar\"}], \"carpet\": [{\"aaxis\": {\"endlinecolor\": \"#A2B1C6\", \"gridcolor\": \"#506784\", \"linecolor\": \"#506784\", \"minorgridcolor\": \"#506784\", \"startlinecolor\": \"#A2B1C6\"}, \"baxis\": {\"endlinecolor\": \"#A2B1C6\", \"gridcolor\": \"#506784\", \"linecolor\": \"#506784\", \"minorgridcolor\": \"#506784\", \"startlinecolor\": \"#A2B1C6\"}, \"type\": \"carpet\"}], \"choropleth\": [{\"colorbar\": {\"outlinewidth\": 0, \"ticks\": \"\"}, \"type\": \"choropleth\"}], \"contour\": [{\"colorbar\": {\"outlinewidth\": 0, \"ticks\": \"\"}, \"colorscale\": [[0.0, \"#0d0887\"], [0.1111111111111111, \"#46039f\"], [0.2222222222222222, \"#7201a8\"], [0.3333333333333333, \"#9c179e\"], [0.4444444444444444, \"#bd3786\"], [0.5555555555555556, \"#d8576b\"], [0.6666666666666666, \"#ed7953\"], [0.7777777777777778, \"#fb9f3a\"], [0.8888888888888888, \"#fdca26\"], [1.0, \"#f0f921\"]], \"type\": \"contour\"}], \"contourcarpet\": [{\"colorbar\": {\"outlinewidth\": 0, \"ticks\": \"\"}, \"type\": \"contourcarpet\"}], \"heatmap\": [{\"colorbar\": {\"outlinewidth\": 0, \"ticks\": \"\"}, \"colorscale\": [[0.0, \"#0d0887\"], [0.1111111111111111, \"#46039f\"], [0.2222222222222222, \"#7201a8\"], [0.3333333333333333, \"#9c179e\"], [0.4444444444444444, \"#bd3786\"], [0.5555555555555556, \"#d8576b\"], [0.6666666666666666, \"#ed7953\"], [0.7777777777777778, \"#fb9f3a\"], [0.8888888888888888, \"#fdca26\"], [1.0, \"#f0f921\"]], \"type\": \"heatmap\"}], \"heatmapgl\": [{\"colorbar\": {\"outlinewidth\": 0, \"ticks\": \"\"}, \"colorscale\": [[0.0, \"#0d0887\"], [0.1111111111111111, \"#46039f\"], [0.2222222222222222, \"#7201a8\"], [0.3333333333333333, \"#9c179e\"], [0.4444444444444444, \"#bd3786\"], [0.5555555555555556, \"#d8576b\"], [0.6666666666666666, \"#ed7953\"], [0.7777777777777778, \"#fb9f3a\"], [0.8888888888888888, \"#fdca26\"], [1.0, \"#f0f921\"]], \"type\": \"heatmapgl\"}], \"histogram\": [{\"marker\": {\"colorbar\": {\"outlinewidth\": 0, \"ticks\": \"\"}}, \"type\": \"histogram\"}], \"histogram2d\": [{\"colorbar\": {\"outlinewidth\": 0, \"ticks\": \"\"}, \"colorscale\": [[0.0, \"#0d0887\"], [0.1111111111111111, \"#46039f\"], [0.2222222222222222, \"#7201a8\"], [0.3333333333333333, \"#9c179e\"], [0.4444444444444444, \"#bd3786\"], [0.5555555555555556, \"#d8576b\"], [0.6666666666666666, \"#ed7953\"], [0.7777777777777778, \"#fb9f3a\"], [0.8888888888888888, \"#fdca26\"], [1.0, \"#f0f921\"]], \"type\": \"histogram2d\"}], \"histogram2dcontour\": [{\"colorbar\": {\"outlinewidth\": 0, \"ticks\": \"\"}, \"colorscale\": [[0.0, \"#0d0887\"], [0.1111111111111111, \"#46039f\"], [0.2222222222222222, \"#7201a8\"], [0.3333333333333333, \"#9c179e\"], [0.4444444444444444, \"#bd3786\"], [0.5555555555555556, \"#d8576b\"], [0.6666666666666666, \"#ed7953\"], [0.7777777777777778, \"#fb9f3a\"], [0.8888888888888888, \"#fdca26\"], [1.0, \"#f0f921\"]], \"type\": \"histogram2dcontour\"}], \"mesh3d\": [{\"colorbar\": {\"outlinewidth\": 0, \"ticks\": \"\"}, \"type\": \"mesh3d\"}], \"parcoords\": [{\"line\": {\"colorbar\": {\"outlinewidth\": 0, \"ticks\": \"\"}}, \"type\": \"parcoords\"}], \"pie\": [{\"automargin\": true, \"type\": \"pie\"}], \"scatter\": [{\"marker\": {\"line\": {\"color\": \"#283442\"}}, \"type\": \"scatter\"}], \"scatter3d\": [{\"line\": {\"colorbar\": {\"outlinewidth\": 0, \"ticks\": \"\"}}, \"marker\": {\"colorbar\": {\"outlinewidth\": 0, \"ticks\": \"\"}}, \"type\": \"scatter3d\"}], \"scattercarpet\": [{\"marker\": {\"colorbar\": {\"outlinewidth\": 0, \"ticks\": \"\"}}, \"type\": \"scattercarpet\"}], \"scattergeo\": [{\"marker\": {\"colorbar\": {\"outlinewidth\": 0, \"ticks\": \"\"}}, \"type\": \"scattergeo\"}], \"scattergl\": [{\"marker\": {\"line\": {\"color\": \"#283442\"}}, \"type\": \"scattergl\"}], \"scattermapbox\": [{\"marker\": {\"colorbar\": {\"outlinewidth\": 0, \"ticks\": \"\"}}, \"type\": \"scattermapbox\"}], \"scatterpolar\": [{\"marker\": {\"colorbar\": {\"outlinewidth\": 0, \"ticks\": \"\"}}, \"type\": \"scatterpolar\"}], \"scatterpolargl\": [{\"marker\": {\"colorbar\": {\"outlinewidth\": 0, \"ticks\": \"\"}}, \"type\": \"scatterpolargl\"}], \"scatterternary\": [{\"marker\": {\"colorbar\": {\"outlinewidth\": 0, \"ticks\": \"\"}}, \"type\": \"scatterternary\"}], \"surface\": [{\"colorbar\": {\"outlinewidth\": 0, \"ticks\": \"\"}, \"colorscale\": [[0.0, \"#0d0887\"], [0.1111111111111111, \"#46039f\"], [0.2222222222222222, \"#7201a8\"], [0.3333333333333333, \"#9c179e\"], [0.4444444444444444, \"#bd3786\"], [0.5555555555555556, \"#d8576b\"], [0.6666666666666666, \"#ed7953\"], [0.7777777777777778, \"#fb9f3a\"], [0.8888888888888888, \"#fdca26\"], [1.0, \"#f0f921\"]], \"type\": \"surface\"}], \"table\": [{\"cells\": {\"fill\": {\"color\": \"#506784\"}, \"line\": {\"color\": \"rgb(17,17,17)\"}}, \"header\": {\"fill\": {\"color\": \"#2a3f5f\"}, \"line\": {\"color\": \"rgb(17,17,17)\"}}, \"type\": \"table\"}]}, \"layout\": {\"annotationdefaults\": {\"arrowcolor\": \"#f2f5fa\", \"arrowhead\": 0, \"arrowwidth\": 1}, \"coloraxis\": {\"colorbar\": {\"outlinewidth\": 0, \"ticks\": \"\"}}, \"colorscale\": {\"diverging\": [[0, \"#8e0152\"], [0.1, \"#c51b7d\"], [0.2, \"#de77ae\"], [0.3, \"#f1b6da\"], [0.4, \"#fde0ef\"], [0.5, \"#f7f7f7\"], [0.6, \"#e6f5d0\"], [0.7, \"#b8e186\"], [0.8, \"#7fbc41\"], [0.9, \"#4d9221\"], [1, \"#276419\"]], \"sequential\": [[0.0, \"#0d0887\"], [0.1111111111111111, \"#46039f\"], [0.2222222222222222, \"#7201a8\"], [0.3333333333333333, \"#9c179e\"], [0.4444444444444444, \"#bd3786\"], [0.5555555555555556, \"#d8576b\"], [0.6666666666666666, \"#ed7953\"], [0.7777777777777778, \"#fb9f3a\"], [0.8888888888888888, \"#fdca26\"], [1.0, \"#f0f921\"]], \"sequentialminus\": [[0.0, \"#0d0887\"], [0.1111111111111111, \"#46039f\"], [0.2222222222222222, \"#7201a8\"], [0.3333333333333333, \"#9c179e\"], [0.4444444444444444, \"#bd3786\"], [0.5555555555555556, \"#d8576b\"], [0.6666666666666666, \"#ed7953\"], [0.7777777777777778, \"#fb9f3a\"], [0.8888888888888888, \"#fdca26\"], [1.0, \"#f0f921\"]]}, \"colorway\": [\"#636efa\", \"#EF553B\", \"#00cc96\", \"#ab63fa\", \"#FFA15A\", \"#19d3f3\", \"#FF6692\", \"#B6E880\", \"#FF97FF\", \"#FECB52\"], \"font\": {\"color\": \"#f2f5fa\"}, \"geo\": {\"bgcolor\": \"rgb(17,17,17)\", \"lakecolor\": \"rgb(17,17,17)\", \"landcolor\": \"rgb(17,17,17)\", \"showlakes\": true, \"showland\": true, \"subunitcolor\": \"#506784\"}, \"hoverlabel\": {\"align\": \"left\"}, \"hovermode\": \"closest\", \"mapbox\": {\"style\": \"dark\"}, \"paper_bgcolor\": \"rgb(17,17,17)\", \"plot_bgcolor\": \"rgb(17,17,17)\", \"polar\": {\"angularaxis\": {\"gridcolor\": \"#506784\", \"linecolor\": \"#506784\", \"ticks\": \"\"}, \"bgcolor\": \"rgb(17,17,17)\", \"radialaxis\": {\"gridcolor\": \"#506784\", \"linecolor\": \"#506784\", \"ticks\": \"\"}}, \"scene\": {\"xaxis\": {\"backgroundcolor\": \"rgb(17,17,17)\", \"gridcolor\": \"#506784\", \"gridwidth\": 2, \"linecolor\": \"#506784\", \"showbackground\": true, \"ticks\": \"\", \"zerolinecolor\": \"#C8D4E3\"}, \"yaxis\": {\"backgroundcolor\": \"rgb(17,17,17)\", \"gridcolor\": \"#506784\", \"gridwidth\": 2, \"linecolor\": \"#506784\", \"showbackground\": true, \"ticks\": \"\", \"zerolinecolor\": \"#C8D4E3\"}, \"zaxis\": {\"backgroundcolor\": \"rgb(17,17,17)\", \"gridcolor\": \"#506784\", \"gridwidth\": 2, \"linecolor\": \"#506784\", \"showbackground\": true, \"ticks\": \"\", \"zerolinecolor\": \"#C8D4E3\"}}, \"shapedefaults\": {\"line\": {\"color\": \"#f2f5fa\"}}, \"sliderdefaults\": {\"bgcolor\": \"#C8D4E3\", \"bordercolor\": \"rgb(17,17,17)\", \"borderwidth\": 1, \"tickwidth\": 0}, \"ternary\": {\"aaxis\": {\"gridcolor\": \"#506784\", \"linecolor\": \"#506784\", \"ticks\": \"\"}, \"baxis\": {\"gridcolor\": \"#506784\", \"linecolor\": \"#506784\", \"ticks\": \"\"}, \"bgcolor\": \"rgb(17,17,17)\", \"caxis\": {\"gridcolor\": \"#506784\", \"linecolor\": \"#506784\", \"ticks\": \"\"}}, \"title\": {\"x\": 0.05}, \"updatemenudefaults\": {\"bgcolor\": \"#506784\", \"borderwidth\": 0}, \"xaxis\": {\"automargin\": true, \"gridcolor\": \"#283442\", \"linecolor\": \"#506784\", \"ticks\": \"\", \"title\": {\"standoff\": 15}, \"zerolinecolor\": \"#283442\", \"zerolinewidth\": 2}, \"yaxis\": {\"automargin\": true, \"gridcolor\": \"#283442\", \"linecolor\": \"#506784\", \"ticks\": \"\", \"title\": {\"standoff\": 15}, \"zerolinecolor\": \"#283442\", \"zerolinewidth\": 2}}}, \"title\": {\"text\": \"Hours vs Percentage\"}, \"xaxis\": {\"title\": {\"text\": \"Hours\"}}, \"yaxis\": {\"title\": {\"text\": \"Percentage\"}}},\n",
              "                        {\"responsive\": true}\n",
              "                    ).then(function(){\n",
              "                            \n",
              "var gd = document.getElementById('aaa4b31c-e956-4722-a8f3-0448ba2cbc43');\n",
              "var x = new MutationObserver(function (mutations, observer) {{\n",
              "        var display = window.getComputedStyle(gd).display;\n",
              "        if (!display || display === 'none') {{\n",
              "            console.log([gd, 'removed!']);\n",
              "            Plotly.purge(gd);\n",
              "            observer.disconnect();\n",
              "        }}\n",
              "}});\n",
              "\n",
              "// Listen for the removal of the full notebook cells\n",
              "var notebookContainer = gd.closest('#notebook-container');\n",
              "if (notebookContainer) {{\n",
              "    x.observe(notebookContainer, {childList: true});\n",
              "}}\n",
              "\n",
              "// Listen for the clearing of the current output cell\n",
              "var outputEl = gd.closest('.output');\n",
              "if (outputEl) {{\n",
              "    x.observe(outputEl, {childList: true});\n",
              "}}\n",
              "\n",
              "                        })\n",
              "                };\n",
              "                \n",
              "            </script>\n",
              "        </div>\n",
              "</body>\n",
              "</html>"
            ]
          },
          "metadata": {
            "tags": []
          }
        }
      ]
    },
    {
      "cell_type": "markdown",
      "metadata": {
        "id": "qgFzzlfPZBxC"
      },
      "source": [
        "# Linear Regression\n",
        "**Linear regression** performs the task to predict a dependent variable value (y) based on a given independent variable (x).\n",
        "\n",
        "So, this regression technique finds out a linear relationship between x (input) and y(output) and the regression line is the best fit line for that relationship.\n",
        "<br><br>\n",
        "\n",
        "**Hypothesis function for Linear Regression:** y = m*X +c\n",
        "\n",
        "where,\n",
        "\n",
        "y : Dependent variable\n",
        "\n",
        "X : Independent variable\n",
        "\n",
        "When training the model – it fits the best line to predict the value of y for a given value of x. The model gets the best regression fit line by finding the best m and c values.\n",
        "\n",
        "c : intercept\n",
        "\n",
        "m : coefficient of x"
      ]
    },
    {
      "cell_type": "markdown",
      "metadata": {
        "id": "7PfMVl1NazR_"
      },
      "source": [
        "How to update θ1 and θ2 values to get the best fit line ?\n",
        "\n",
        "**Cost Function (J)**\n",
        "\n",
        "Cost function(J) of Linear Regression is the Root Mean Squared Error (RMSE) between predicted y value (pred) and true y value (y).\n",
        "\n",
        "By achieving the best-fit regression line, the model aims to predict y value such that the error difference between predicted value and true value is minimum.\n",
        "<br><br>\n",
        "**Gradient Descent**\n",
        "\n",
        "Gradient descent is an optimization algorithm used to minimize cost function by iteratively moving in the direction of steepest descent as defined by the negative of the gradient towards global minima.\n",
        "<br><br>\n",
        "\n",
        "**Cost Func J(W) VS W (m|Slope)**\n",
        "\n",
        "![](data:image/png;base64,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)"
      ]
    },
    {
      "cell_type": "markdown",
      "metadata": {
        "id": "52EHGFaaV68U"
      },
      "source": [
        "### Instantiate the Linear Regressor\n"
      ]
    },
    {
      "cell_type": "code",
      "metadata": {
        "id": "Dq3WZFGpV9qw"
      },
      "source": [
        "lin_reg = LinearRegression()"
      ],
      "execution_count": 164,
      "outputs": []
    },
    {
      "cell_type": "markdown",
      "metadata": {
        "id": "D4DpgRa6V_5r"
      },
      "source": [
        "### Fit the model"
      ]
    },
    {
      "cell_type": "code",
      "metadata": {
        "colab": {
          "base_uri": "https://localhost:8080/"
        },
        "id": "Wv1j1Wuhjjwi",
        "outputId": "c509f190-d588-4026-bcf8-e5ae0dc2e0d6"
      },
      "source": [
        "lin_reg.fit(X_train, y_train)"
      ],
      "execution_count": 165,
      "outputs": [
        {
          "output_type": "execute_result",
          "data": {
            "text/plain": [
              "LinearRegression(copy_X=True, fit_intercept=True, n_jobs=None, normalize=False)"
            ]
          },
          "metadata": {
            "tags": []
          },
          "execution_count": 165
        }
      ]
    },
    {
      "cell_type": "markdown",
      "metadata": {
        "id": "CKBw21L5WE2w"
      },
      "source": [
        "### Plotting the best fit regression line"
      ]
    },
    {
      "cell_type": "code",
      "metadata": {
        "colab": {
          "base_uri": "https://localhost:8080/",
          "height": 542
        },
        "id": "PPO7gIZIlOM4",
        "outputId": "e1a735b1-4689-41fb-c0df-95c3f0589811"
      },
      "source": [
        "# Equation of best fit line\n",
        "line = lin_reg.coef_*X + lin_reg.intercept_\n",
        "\n",
        "fig = go.Figure([\n",
        "    go.Scatter(x=X.squeeze(), y=y.squeeze(), name='Data', mode='markers'),\n",
        "    go.Scatter(x=X.squeeze(), y=line.squeeze(), name='Best fit line')\n",
        "])\n",
        "fig.update_layout(xaxis_title=\"Hours\", yaxis_title=\"Percentage\", title='Hours vs Percentage', template='plotly_dark')\n",
        "fig.show()"
      ],
      "execution_count": 166,
      "outputs": [
        {
          "output_type": "display_data",
          "data": {
            "text/html": [
              "<html>\n",
              "<head><meta charset=\"utf-8\" /></head>\n",
              "<body>\n",
              "    <div>\n",
              "            <script src=\"https://cdnjs.cloudflare.com/ajax/libs/mathjax/2.7.5/MathJax.js?config=TeX-AMS-MML_SVG\"></script><script type=\"text/javascript\">if (window.MathJax) {MathJax.Hub.Config({SVG: {font: \"STIX-Web\"}});}</script>\n",
              "                <script type=\"text/javascript\">window.PlotlyConfig = {MathJaxConfig: 'local'};</script>\n",
              "        <script src=\"https://cdn.plot.ly/plotly-latest.min.js\"></script>    \n",
              "            <div id=\"36b4159e-6147-4748-ba3f-c242982bbfd2\" class=\"plotly-graph-div\" style=\"height:525px; width:100%;\"></div>\n",
              "            <script type=\"text/javascript\">\n",
              "                \n",
              "                    window.PLOTLYENV=window.PLOTLYENV || {};\n",
              "                    \n",
              "                if (document.getElementById(\"36b4159e-6147-4748-ba3f-c242982bbfd2\")) {\n",
              "                    Plotly.newPlot(\n",
              "                        '36b4159e-6147-4748-ba3f-c242982bbfd2',\n",
              "                        [{\"mode\": \"markers\", \"name\": \"Data\", \"type\": \"scatter\", \"x\": [2.5, 5.1, 3.2, 8.5, 3.5, 1.5, 9.2, 5.5, 8.3, 2.7, 7.7, 5.9, 4.5, 3.3, 1.1, 8.9, 2.5, 1.9, 6.1, 7.4, 2.7, 4.8, 3.8, 6.9, 7.8], \"y\": [21, 47, 27, 75, 30, 20, 88, 60, 81, 25, 85, 62, 41, 42, 17, 95, 30, 24, 67, 69, 30, 54, 35, 76, 86]}, {\"name\": \"Best fit line\", \"type\": \"scatter\", \"x\": [2.5, 5.1, 3.2, 8.5, 3.5, 1.5, 9.2, 5.5, 8.3, 2.7, 7.7, 5.9, 4.5, 3.3, 1.1, 8.9, 2.5, 1.9, 6.1, 7.4, 2.7, 4.8, 3.8, 6.9, 7.8], \"y\": [26.8422320992145, 52.29250548476201, 33.69422877993883, 85.57363221970877, 36.63079878596354, 17.053665412465456, 92.4256289004331, 56.207932159461635, 83.61591888235897, 28.79994543656431, 77.74277887030954, 60.12335883416125, 46.41936547271259, 34.67308544861373, 13.138238737765839, 89.48905889440839, 26.8422320992145, 20.969092087165073, 62.08107217151106, 74.80620886428483, 28.79994543656431, 49.3559354787373, 39.56736879198826, 69.9119255209103, 78.72163553898443]}],\n",
              "                        {\"template\": {\"data\": {\"bar\": [{\"error_x\": {\"color\": \"#f2f5fa\"}, \"error_y\": {\"color\": \"#f2f5fa\"}, \"marker\": {\"line\": {\"color\": \"rgb(17,17,17)\", \"width\": 0.5}}, \"type\": \"bar\"}], \"barpolar\": [{\"marker\": {\"line\": {\"color\": \"rgb(17,17,17)\", \"width\": 0.5}}, \"type\": \"barpolar\"}], \"carpet\": [{\"aaxis\": {\"endlinecolor\": \"#A2B1C6\", \"gridcolor\": \"#506784\", \"linecolor\": \"#506784\", \"minorgridcolor\": \"#506784\", \"startlinecolor\": \"#A2B1C6\"}, \"baxis\": {\"endlinecolor\": \"#A2B1C6\", \"gridcolor\": \"#506784\", \"linecolor\": \"#506784\", \"minorgridcolor\": \"#506784\", \"startlinecolor\": \"#A2B1C6\"}, \"type\": \"carpet\"}], \"choropleth\": [{\"colorbar\": {\"outlinewidth\": 0, \"ticks\": \"\"}, \"type\": \"choropleth\"}], \"contour\": [{\"colorbar\": {\"outlinewidth\": 0, \"ticks\": \"\"}, \"colorscale\": [[0.0, \"#0d0887\"], [0.1111111111111111, \"#46039f\"], [0.2222222222222222, \"#7201a8\"], [0.3333333333333333, \"#9c179e\"], [0.4444444444444444, \"#bd3786\"], [0.5555555555555556, \"#d8576b\"], [0.6666666666666666, \"#ed7953\"], [0.7777777777777778, \"#fb9f3a\"], [0.8888888888888888, \"#fdca26\"], [1.0, \"#f0f921\"]], \"type\": \"contour\"}], \"contourcarpet\": [{\"colorbar\": {\"outlinewidth\": 0, \"ticks\": \"\"}, \"type\": \"contourcarpet\"}], \"heatmap\": [{\"colorbar\": {\"outlinewidth\": 0, \"ticks\": \"\"}, \"colorscale\": [[0.0, \"#0d0887\"], [0.1111111111111111, \"#46039f\"], [0.2222222222222222, \"#7201a8\"], [0.3333333333333333, \"#9c179e\"], [0.4444444444444444, \"#bd3786\"], [0.5555555555555556, \"#d8576b\"], [0.6666666666666666, \"#ed7953\"], [0.7777777777777778, \"#fb9f3a\"], [0.8888888888888888, \"#fdca26\"], [1.0, \"#f0f921\"]], \"type\": \"heatmap\"}], \"heatmapgl\": [{\"colorbar\": {\"outlinewidth\": 0, \"ticks\": \"\"}, \"colorscale\": [[0.0, \"#0d0887\"], [0.1111111111111111, \"#46039f\"], [0.2222222222222222, \"#7201a8\"], [0.3333333333333333, \"#9c179e\"], [0.4444444444444444, \"#bd3786\"], [0.5555555555555556, \"#d8576b\"], [0.6666666666666666, \"#ed7953\"], [0.7777777777777778, \"#fb9f3a\"], [0.8888888888888888, \"#fdca26\"], [1.0, \"#f0f921\"]], \"type\": \"heatmapgl\"}], \"histogram\": [{\"marker\": {\"colorbar\": {\"outlinewidth\": 0, \"ticks\": \"\"}}, \"type\": \"histogram\"}], \"histogram2d\": [{\"colorbar\": {\"outlinewidth\": 0, \"ticks\": \"\"}, \"colorscale\": [[0.0, \"#0d0887\"], [0.1111111111111111, \"#46039f\"], [0.2222222222222222, \"#7201a8\"], [0.3333333333333333, \"#9c179e\"], [0.4444444444444444, \"#bd3786\"], [0.5555555555555556, \"#d8576b\"], [0.6666666666666666, \"#ed7953\"], [0.7777777777777778, \"#fb9f3a\"], [0.8888888888888888, \"#fdca26\"], [1.0, \"#f0f921\"]], \"type\": \"histogram2d\"}], \"histogram2dcontour\": [{\"colorbar\": {\"outlinewidth\": 0, \"ticks\": \"\"}, \"colorscale\": [[0.0, \"#0d0887\"], [0.1111111111111111, \"#46039f\"], [0.2222222222222222, \"#7201a8\"], [0.3333333333333333, \"#9c179e\"], [0.4444444444444444, \"#bd3786\"], [0.5555555555555556, \"#d8576b\"], [0.6666666666666666, \"#ed7953\"], [0.7777777777777778, \"#fb9f3a\"], [0.8888888888888888, \"#fdca26\"], [1.0, \"#f0f921\"]], \"type\": \"histogram2dcontour\"}], \"mesh3d\": [{\"colorbar\": {\"outlinewidth\": 0, \"ticks\": \"\"}, \"type\": \"mesh3d\"}], \"parcoords\": [{\"line\": {\"colorbar\": {\"outlinewidth\": 0, \"ticks\": \"\"}}, \"type\": \"parcoords\"}], \"pie\": [{\"automargin\": true, \"type\": \"pie\"}], \"scatter\": [{\"marker\": {\"line\": {\"color\": \"#283442\"}}, \"type\": \"scatter\"}], \"scatter3d\": [{\"line\": {\"colorbar\": {\"outlinewidth\": 0, \"ticks\": \"\"}}, \"marker\": {\"colorbar\": {\"outlinewidth\": 0, \"ticks\": \"\"}}, \"type\": \"scatter3d\"}], \"scattercarpet\": [{\"marker\": {\"colorbar\": {\"outlinewidth\": 0, \"ticks\": \"\"}}, \"type\": \"scattercarpet\"}], \"scattergeo\": [{\"marker\": {\"colorbar\": {\"outlinewidth\": 0, \"ticks\": \"\"}}, \"type\": \"scattergeo\"}], \"scattergl\": [{\"marker\": {\"line\": {\"color\": \"#283442\"}}, \"type\": \"scattergl\"}], \"scattermapbox\": [{\"marker\": {\"colorbar\": {\"outlinewidth\": 0, \"ticks\": \"\"}}, \"type\": \"scattermapbox\"}], \"scatterpolar\": [{\"marker\": {\"colorbar\": {\"outlinewidth\": 0, \"ticks\": \"\"}}, \"type\": \"scatterpolar\"}], \"scatterpolargl\": [{\"marker\": {\"colorbar\": {\"outlinewidth\": 0, \"ticks\": \"\"}}, \"type\": \"scatterpolargl\"}], \"scatterternary\": [{\"marker\": {\"colorbar\": {\"outlinewidth\": 0, \"ticks\": \"\"}}, \"type\": \"scatterternary\"}], \"surface\": [{\"colorbar\": {\"outlinewidth\": 0, \"ticks\": \"\"}, \"colorscale\": [[0.0, \"#0d0887\"], [0.1111111111111111, \"#46039f\"], [0.2222222222222222, \"#7201a8\"], [0.3333333333333333, \"#9c179e\"], [0.4444444444444444, \"#bd3786\"], [0.5555555555555556, \"#d8576b\"], [0.6666666666666666, \"#ed7953\"], [0.7777777777777778, \"#fb9f3a\"], [0.8888888888888888, \"#fdca26\"], [1.0, \"#f0f921\"]], \"type\": \"surface\"}], \"table\": [{\"cells\": {\"fill\": {\"color\": \"#506784\"}, \"line\": {\"color\": \"rgb(17,17,17)\"}}, \"header\": {\"fill\": {\"color\": \"#2a3f5f\"}, \"line\": {\"color\": \"rgb(17,17,17)\"}}, \"type\": \"table\"}]}, \"layout\": {\"annotationdefaults\": {\"arrowcolor\": \"#f2f5fa\", \"arrowhead\": 0, \"arrowwidth\": 1}, \"coloraxis\": {\"colorbar\": {\"outlinewidth\": 0, \"ticks\": \"\"}}, \"colorscale\": {\"diverging\": [[0, \"#8e0152\"], [0.1, \"#c51b7d\"], [0.2, \"#de77ae\"], [0.3, \"#f1b6da\"], [0.4, \"#fde0ef\"], [0.5, \"#f7f7f7\"], [0.6, \"#e6f5d0\"], [0.7, \"#b8e186\"], [0.8, \"#7fbc41\"], [0.9, \"#4d9221\"], [1, \"#276419\"]], \"sequential\": [[0.0, \"#0d0887\"], [0.1111111111111111, \"#46039f\"], [0.2222222222222222, \"#7201a8\"], [0.3333333333333333, \"#9c179e\"], [0.4444444444444444, \"#bd3786\"], [0.5555555555555556, \"#d8576b\"], [0.6666666666666666, \"#ed7953\"], [0.7777777777777778, \"#fb9f3a\"], [0.8888888888888888, \"#fdca26\"], [1.0, \"#f0f921\"]], \"sequentialminus\": [[0.0, \"#0d0887\"], [0.1111111111111111, \"#46039f\"], [0.2222222222222222, \"#7201a8\"], [0.3333333333333333, \"#9c179e\"], [0.4444444444444444, \"#bd3786\"], [0.5555555555555556, \"#d8576b\"], [0.6666666666666666, \"#ed7953\"], [0.7777777777777778, \"#fb9f3a\"], [0.8888888888888888, \"#fdca26\"], [1.0, \"#f0f921\"]]}, \"colorway\": [\"#636efa\", \"#EF553B\", \"#00cc96\", \"#ab63fa\", \"#FFA15A\", \"#19d3f3\", \"#FF6692\", \"#B6E880\", \"#FF97FF\", \"#FECB52\"], \"font\": {\"color\": \"#f2f5fa\"}, \"geo\": {\"bgcolor\": \"rgb(17,17,17)\", \"lakecolor\": \"rgb(17,17,17)\", \"landcolor\": \"rgb(17,17,17)\", \"showlakes\": true, \"showland\": true, \"subunitcolor\": \"#506784\"}, \"hoverlabel\": {\"align\": \"left\"}, \"hovermode\": \"closest\", \"mapbox\": {\"style\": \"dark\"}, \"paper_bgcolor\": \"rgb(17,17,17)\", \"plot_bgcolor\": \"rgb(17,17,17)\", \"polar\": {\"angularaxis\": {\"gridcolor\": \"#506784\", \"linecolor\": \"#506784\", \"ticks\": \"\"}, \"bgcolor\": \"rgb(17,17,17)\", \"radialaxis\": {\"gridcolor\": \"#506784\", \"linecolor\": \"#506784\", \"ticks\": \"\"}}, \"scene\": {\"xaxis\": {\"backgroundcolor\": \"rgb(17,17,17)\", \"gridcolor\": \"#506784\", \"gridwidth\": 2, \"linecolor\": \"#506784\", \"showbackground\": true, \"ticks\": \"\", \"zerolinecolor\": \"#C8D4E3\"}, \"yaxis\": {\"backgroundcolor\": \"rgb(17,17,17)\", \"gridcolor\": \"#506784\", \"gridwidth\": 2, \"linecolor\": \"#506784\", \"showbackground\": true, \"ticks\": \"\", \"zerolinecolor\": \"#C8D4E3\"}, \"zaxis\": {\"backgroundcolor\": \"rgb(17,17,17)\", \"gridcolor\": \"#506784\", \"gridwidth\": 2, \"linecolor\": \"#506784\", \"showbackground\": true, \"ticks\": \"\", \"zerolinecolor\": \"#C8D4E3\"}}, \"shapedefaults\": {\"line\": {\"color\": \"#f2f5fa\"}}, \"sliderdefaults\": {\"bgcolor\": \"#C8D4E3\", \"bordercolor\": \"rgb(17,17,17)\", \"borderwidth\": 1, \"tickwidth\": 0}, \"ternary\": {\"aaxis\": {\"gridcolor\": \"#506784\", \"linecolor\": \"#506784\", \"ticks\": \"\"}, \"baxis\": {\"gridcolor\": \"#506784\", \"linecolor\": \"#506784\", \"ticks\": \"\"}, \"bgcolor\": \"rgb(17,17,17)\", \"caxis\": {\"gridcolor\": \"#506784\", \"linecolor\": \"#506784\", \"ticks\": \"\"}}, \"title\": {\"x\": 0.05}, \"updatemenudefaults\": {\"bgcolor\": \"#506784\", \"borderwidth\": 0}, \"xaxis\": {\"automargin\": true, \"gridcolor\": \"#283442\", \"linecolor\": \"#506784\", \"ticks\": \"\", \"title\": {\"standoff\": 15}, \"zerolinecolor\": \"#283442\", \"zerolinewidth\": 2}, \"yaxis\": {\"automargin\": true, \"gridcolor\": \"#283442\", \"linecolor\": \"#506784\", \"ticks\": \"\", \"title\": {\"standoff\": 15}, \"zerolinecolor\": \"#283442\", \"zerolinewidth\": 2}}}, \"title\": {\"text\": \"Hours vs Percentage\"}, \"xaxis\": {\"title\": {\"text\": \"Hours\"}}, \"yaxis\": {\"title\": {\"text\": \"Percentage\"}}},\n",
              "                        {\"responsive\": true}\n",
              "                    ).then(function(){\n",
              "                            \n",
              "var gd = document.getElementById('36b4159e-6147-4748-ba3f-c242982bbfd2');\n",
              "var x = new MutationObserver(function (mutations, observer) {{\n",
              "        var display = window.getComputedStyle(gd).display;\n",
              "        if (!display || display === 'none') {{\n",
              "            console.log([gd, 'removed!']);\n",
              "            Plotly.purge(gd);\n",
              "            observer.disconnect();\n",
              "        }}\n",
              "}});\n",
              "\n",
              "// Listen for the removal of the full notebook cells\n",
              "var notebookContainer = gd.closest('#notebook-container');\n",
              "if (notebookContainer) {{\n",
              "    x.observe(notebookContainer, {childList: true});\n",
              "}}\n",
              "\n",
              "// Listen for the clearing of the current output cell\n",
              "var outputEl = gd.closest('.output');\n",
              "if (outputEl) {{\n",
              "    x.observe(outputEl, {childList: true});\n",
              "}}\n",
              "\n",
              "                        })\n",
              "                };\n",
              "                \n",
              "            </script>\n",
              "        </div>\n",
              "</body>\n",
              "</html>"
            ]
          },
          "metadata": {
            "tags": []
          }
        }
      ]
    },
    {
      "cell_type": "markdown",
      "metadata": {
        "id": "2UnsjVg0WK4S"
      },
      "source": [
        "### Check for overfitting"
      ]
    },
    {
      "cell_type": "code",
      "metadata": {
        "colab": {
          "base_uri": "https://localhost:8080/"
        },
        "id": "Exq6IYICF_Gm",
        "outputId": "52c65c77-1590-4e6f-db46-b2f13e3bdb1f"
      },
      "source": [
        "print(f\"Training Score: {lin_reg.score(X_train,y_train)*100:.2f} %\")\n",
        "print(f\"Testing Score: {lin_reg.score(X_test,y_test)*100:.2f} %\")"
      ],
      "execution_count": 167,
      "outputs": [
        {
          "output_type": "stream",
          "text": [
            "Training Score: 94.85 %\n",
            "Testing Score: 95.68 %\n"
          ],
          "name": "stdout"
        }
      ]
    },
    {
      "cell_type": "markdown",
      "metadata": {
        "id": "1Ch_mvJQWN4X"
      },
      "source": [
        "The scores are very close which indicates that we have avoided over-fitting"
      ]
    },
    {
      "cell_type": "markdown",
      "metadata": {
        "id": "zu4JfEOQWtLE"
      },
      "source": [
        "### Comparing Actual and Predicted Values"
      ]
    },
    {
      "cell_type": "code",
      "metadata": {
        "colab": {
          "base_uri": "https://localhost:8080/",
          "height": 297
        },
        "id": "MSSEKCSzIE4A",
        "outputId": "0f1ccb1d-b7e2-43d4-f8ed-eabcffc48df0"
      },
      "source": [
        "# Calculate predictions\n",
        "y_preds = lin_reg.predict(X_test)\n",
        "\n",
        "# Make another dataframe to store actual and predicted values\n",
        "df_check = pd.DataFrame({'Actual': y_test, 'Predicted': y_preds}) \n",
        "df_check"
      ],
      "execution_count": 168,
      "outputs": [
        {
          "output_type": "execute_result",
          "data": {
            "text/html": [
              "<div>\n",
              "<style scoped>\n",
              "    .dataframe tbody tr th:only-of-type {\n",
              "        vertical-align: middle;\n",
              "    }\n",
              "\n",
              "    .dataframe tbody tr th {\n",
              "        vertical-align: top;\n",
              "    }\n",
              "\n",
              "    .dataframe thead th {\n",
              "        text-align: right;\n",
              "    }\n",
              "</style>\n",
              "<table border=\"1\" class=\"dataframe\">\n",
              "  <thead>\n",
              "    <tr style=\"text-align: right;\">\n",
              "      <th></th>\n",
              "      <th>Actual</th>\n",
              "      <th>Predicted</th>\n",
              "    </tr>\n",
              "  </thead>\n",
              "  <tbody>\n",
              "    <tr>\n",
              "      <th>5</th>\n",
              "      <td>20</td>\n",
              "      <td>17.053665</td>\n",
              "    </tr>\n",
              "    <tr>\n",
              "      <th>2</th>\n",
              "      <td>27</td>\n",
              "      <td>33.694229</td>\n",
              "    </tr>\n",
              "    <tr>\n",
              "      <th>19</th>\n",
              "      <td>69</td>\n",
              "      <td>74.806209</td>\n",
              "    </tr>\n",
              "    <tr>\n",
              "      <th>16</th>\n",
              "      <td>30</td>\n",
              "      <td>26.842232</td>\n",
              "    </tr>\n",
              "    <tr>\n",
              "      <th>11</th>\n",
              "      <td>62</td>\n",
              "      <td>60.123359</td>\n",
              "    </tr>\n",
              "    <tr>\n",
              "      <th>22</th>\n",
              "      <td>35</td>\n",
              "      <td>39.567369</td>\n",
              "    </tr>\n",
              "    <tr>\n",
              "      <th>17</th>\n",
              "      <td>24</td>\n",
              "      <td>20.969092</td>\n",
              "    </tr>\n",
              "    <tr>\n",
              "      <th>24</th>\n",
              "      <td>86</td>\n",
              "      <td>78.721636</td>\n",
              "    </tr>\n",
              "  </tbody>\n",
              "</table>\n",
              "</div>"
            ],
            "text/plain": [
              "    Actual  Predicted\n",
              "5       20  17.053665\n",
              "2       27  33.694229\n",
              "19      69  74.806209\n",
              "16      30  26.842232\n",
              "11      62  60.123359\n",
              "22      35  39.567369\n",
              "17      24  20.969092\n",
              "24      86  78.721636"
            ]
          },
          "metadata": {
            "tags": []
          },
          "execution_count": 168
        }
      ]
    },
    {
      "cell_type": "markdown",
      "metadata": {
        "id": "XrRspQEpW_ZX"
      },
      "source": [
        "### Model Evaluation"
      ]
    },
    {
      "cell_type": "code",
      "metadata": {
        "colab": {
          "base_uri": "https://localhost:8080/"
        },
        "id": "3WWQUve63ALX",
        "outputId": "3d6b5b8e-3649-4da9-b1ee-55bf06a7786f"
      },
      "source": [
        "print(f\"Mean Absolute Error: {mean_absolute_error(y_test,y_preds)}\")\n",
        "print(f\"Mean Squared Error: {mean_squared_error(y_test,y_preds, squared=True)}\")\n",
        "print(f\"Root Mean Squared Error: {mean_squared_error(y_test,y_preds, squared=False)}\")\n",
        "print(f\"R^2: {r2_score(y_test,y_preds)*100:.2f} %\")"
      ],
      "execution_count": 169,
      "outputs": [
        {
          "output_type": "stream",
          "text": [
            "Mean Absolute Error: 4.419727808027651\n",
            "Mean Squared Error: 22.965097212700428\n",
            "Root Mean Squared Error: 4.7921912746363144\n",
            "R^2: 95.68 %\n"
          ],
          "name": "stdout"
        }
      ]
    },
    {
      "cell_type": "markdown",
      "metadata": {
        "id": "xvWgOaUEPIsL"
      },
      "source": [
        "### Prediction on New Data"
      ]
    },
    {
      "cell_type": "code",
      "metadata": {
        "colab": {
          "base_uri": "https://localhost:8080/"
        },
        "id": "zJXij-KwLOk9",
        "outputId": "b9dcf452-7010-491d-9f14-e5279b205ba5"
      },
      "source": [
        "hours = 9.25\n",
        "own_pred = lin_reg.predict([[hours]])\n",
        "print(f'A student who will study for {hours} hours will get {own_pred[0]:.2f} %')"
      ],
      "execution_count": 170,
      "outputs": [
        {
          "output_type": "stream",
          "text": [
            "A student who will study for 9.25 hours will get 92.92 %\n"
          ],
          "name": "stdout"
        }
      ]
    }
  ]
}